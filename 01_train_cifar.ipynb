{
 "cells": [
  {
   "cell_type": "markdown",
   "id": "eceafea9-13ea-42de-a028-9745d7e4e7ef",
   "metadata": {
    "tags": []
   },
   "source": [
    "## Training"
   ]
  },
  {
   "cell_type": "code",
   "execution_count": 1,
   "id": "4317cb9f-e25b-4ecd-a253-b562a64a2e2d",
   "metadata": {},
   "outputs": [
    {
     "name": "stdout",
     "output_type": "stream",
     "text": [
      "Warning: Your Kaggle API key is readable by other users on this system! To fix this, you can run 'chmod 600 /home/tcapelle/.kaggle/kaggle.json'\n"
     ]
    }
   ],
   "source": [
    "import wandb, torch\n",
    "from ddpm_conditional import *"
   ]
  },
  {
   "cell_type": "code",
   "execution_count": null,
   "id": "5ce6dc47-ed1e-4011-bf55-d8f51690054c",
   "metadata": {},
   "outputs": [
    {
     "name": "stderr",
     "output_type": "stream",
     "text": [
      "04:46:16 - ERROR: Failed to detect the name of this notebook, you can set it manually with the WANDB_NOTEBOOK_NAME environment variable to enable code saving.\n",
      "\u001b[34m\u001b[1mwandb\u001b[0m: Currently logged in as: \u001b[33mcapecape\u001b[0m. Use \u001b[1m`wandb login --relogin`\u001b[0m to force relogin\n"
     ]
    },
    {
     "data": {
      "text/html": [
       "wandb version 0.13.3 is available!  To upgrade, please run:\n",
       " $ pip install wandb --upgrade"
      ],
      "text/plain": [
       "<IPython.core.display.HTML object>"
      ]
     },
     "metadata": {},
     "output_type": "display_data"
    },
    {
     "data": {
      "text/html": [
       "Tracking run with wandb version 0.13.2"
      ],
      "text/plain": [
       "<IPython.core.display.HTML object>"
      ]
     },
     "metadata": {},
     "output_type": "display_data"
    },
    {
     "data": {
      "text/html": [
       "Run data is saved locally in <code>/home/tcapelle/wandb/Diffusion-Models-pytorch/wandb/run-20220929_164617-uatxwemr</code>"
      ],
      "text/plain": [
       "<IPython.core.display.HTML object>"
      ]
     },
     "metadata": {},
     "output_type": "display_data"
    },
    {
     "data": {
      "text/html": [
       "Syncing run <strong><a href=\"https://wandb.ai/capecape/train_sd/runs/uatxwemr\" target=\"_blank\">vocal-plasma-7</a></strong> to <a href=\"https://wandb.ai/capecape/train_sd\" target=\"_blank\">Weights & Biases</a> (<a href=\"https://wandb.me/run\" target=\"_blank\">docs</a>)<br/>"
      ],
      "text/plain": [
       "<IPython.core.display.HTML object>"
      ]
     },
     "metadata": {},
     "output_type": "display_data"
    },
    {
     "name": "stderr",
     "output_type": "stream",
     "text": [
      "04:46:24 - INFO: Starting epoch 0:\n",
      " 19%|████████████████████▌                                                                                         | 933/5000 [01:56<08:15,  8.22it/s, MSE=0.0432]"
     ]
    }
   ],
   "source": [
    "with wandb.init(project=\"train_sd\", config=defaults):\n",
    "    train(defaults)"
   ]
  },
  {
   "cell_type": "code",
   "execution_count": null,
   "id": "f40e7fd4-7941-44c8-ae5e-85321f3073c9",
   "metadata": {},
   "outputs": [],
   "source": []
  }
 ],
 "metadata": {
  "kernelspec": {
   "display_name": "Python 3 (ipykernel)",
   "language": "python",
   "name": "python3"
  },
  "language_info": {
   "codemirror_mode": {
    "name": "ipython",
    "version": 3
   },
   "file_extension": ".py",
   "mimetype": "text/x-python",
   "name": "python",
   "nbconvert_exporter": "python",
   "pygments_lexer": "ipython3",
   "version": "3.10.4"
  }
 },
 "nbformat": 4,
 "nbformat_minor": 5
}
